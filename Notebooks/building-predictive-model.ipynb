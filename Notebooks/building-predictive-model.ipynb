{
 "cells": [
  {
   "cell_type": "markdown",
   "metadata": {},
   "source": [
    "# Building Predictive Model"
   ]
  },
  {
   "cell_type": "code",
   "execution_count": 1,
   "metadata": {},
   "outputs": [],
   "source": [
    "import pandas as pd\n",
    "import numpy as np\n",
    "import os\n",
    "from matplotlib import pyplot as plt"
   ]
  },
  {
   "cell_type": "markdown",
   "metadata": {},
   "source": [
    "## Import Data"
   ]
  },
  {
   "cell_type": "code",
   "execution_count": 2,
   "metadata": {},
   "outputs": [],
   "source": [
    "# set the path of the processed data\n",
    "processed_data_path = os.path.join(os.path.pardir,'Data_Projects', 'pokemon-processed.csv')\n",
    "df = pd.read_csv(processed_data_path, index_col = 'Number')"
   ]
  },
  {
   "cell_type": "code",
   "execution_count": 3,
   "metadata": {},
   "outputs": [
    {
     "name": "stdout",
     "output_type": "stream",
     "text": [
      "<class 'pandas.core.frame.DataFrame'>\n",
      "Int64Index: 721 entries, 1 to 721\n",
      "Data columns (total 99 columns):\n",
      " #   Column                       Non-Null Count  Dtype  \n",
      "---  ------                       --------------  -----  \n",
      " 0   Total                        721 non-null    int64  \n",
      " 1   Generation                   721 non-null    int64  \n",
      " 2   isLegendary                  721 non-null    int64  \n",
      " 3   hasGender                    721 non-null    int64  \n",
      " 4   Pr_Male                      721 non-null    float64\n",
      " 5   hasMegaEvolution             721 non-null    int64  \n",
      " 6   Height_m                     721 non-null    float64\n",
      " 7   Weight_kg                    721 non-null    float64\n",
      " 8   Catch_Rate                   721 non-null    int64  \n",
      " 9   Type_1_Bug                   721 non-null    int64  \n",
      " 10  Type_1_Dark                  721 non-null    int64  \n",
      " 11  Type_1_Dragon                721 non-null    int64  \n",
      " 12  Type_1_Electric              721 non-null    int64  \n",
      " 13  Type_1_Fairy                 721 non-null    int64  \n",
      " 14  Type_1_Fighting              721 non-null    int64  \n",
      " 15  Type_1_Fire                  721 non-null    int64  \n",
      " 16  Type_1_Flying                721 non-null    int64  \n",
      " 17  Type_1_Ghost                 721 non-null    int64  \n",
      " 18  Type_1_Grass                 721 non-null    int64  \n",
      " 19  Type_1_Ground                721 non-null    int64  \n",
      " 20  Type_1_Ice                   721 non-null    int64  \n",
      " 21  Type_1_Normal                721 non-null    int64  \n",
      " 22  Type_1_Poison                721 non-null    int64  \n",
      " 23  Type_1_Psychic               721 non-null    int64  \n",
      " 24  Type_1_Rock                  721 non-null    int64  \n",
      " 25  Type_1_Steel                 721 non-null    int64  \n",
      " 26  Type_1_Water                 721 non-null    int64  \n",
      " 27  Type_2_Bug                   721 non-null    int64  \n",
      " 28  Type_2_Dark                  721 non-null    int64  \n",
      " 29  Type_2_Dragon                721 non-null    int64  \n",
      " 30  Type_2_Electric              721 non-null    int64  \n",
      " 31  Type_2_Fairy                 721 non-null    int64  \n",
      " 32  Type_2_Fighting              721 non-null    int64  \n",
      " 33  Type_2_Fire                  721 non-null    int64  \n",
      " 34  Type_2_Flying                721 non-null    int64  \n",
      " 35  Type_2_Ghost                 721 non-null    int64  \n",
      " 36  Type_2_Grass                 721 non-null    int64  \n",
      " 37  Type_2_Ground                721 non-null    int64  \n",
      " 38  Type_2_Ice                   721 non-null    int64  \n",
      " 39  Type_2_Normal                721 non-null    int64  \n",
      " 40  Type_2_Poison                721 non-null    int64  \n",
      " 41  Type_2_Psychic               721 non-null    int64  \n",
      " 42  Type_2_Rock                  721 non-null    int64  \n",
      " 43  Type_2_Steel                 721 non-null    int64  \n",
      " 44  Type_2_Water                 721 non-null    int64  \n",
      " 45  Type_2_none                  721 non-null    int64  \n",
      " 46  Color_Black                  721 non-null    int64  \n",
      " 47  Color_Blue                   721 non-null    int64  \n",
      " 48  Color_Brown                  721 non-null    int64  \n",
      " 49  Color_Green                  721 non-null    int64  \n",
      " 50  Color_Grey                   721 non-null    int64  \n",
      " 51  Color_Pink                   721 non-null    int64  \n",
      " 52  Color_Purple                 721 non-null    int64  \n",
      " 53  Color_Red                    721 non-null    int64  \n",
      " 54  Color_White                  721 non-null    int64  \n",
      " 55  Color_Yellow                 721 non-null    int64  \n",
      " 56  Egg_Group_1_Amorphous        721 non-null    int64  \n",
      " 57  Egg_Group_1_Bug              721 non-null    int64  \n",
      " 58  Egg_Group_1_Ditto            721 non-null    int64  \n",
      " 59  Egg_Group_1_Dragon           721 non-null    int64  \n",
      " 60  Egg_Group_1_Fairy            721 non-null    int64  \n",
      " 61  Egg_Group_1_Field            721 non-null    int64  \n",
      " 62  Egg_Group_1_Flying           721 non-null    int64  \n",
      " 63  Egg_Group_1_Grass            721 non-null    int64  \n",
      " 64  Egg_Group_1_Human-Like       721 non-null    int64  \n",
      " 65  Egg_Group_1_Mineral          721 non-null    int64  \n",
      " 66  Egg_Group_1_Monster          721 non-null    int64  \n",
      " 67  Egg_Group_1_Undiscovered     721 non-null    int64  \n",
      " 68  Egg_Group_1_Water_1          721 non-null    int64  \n",
      " 69  Egg_Group_1_Water_2          721 non-null    int64  \n",
      " 70  Egg_Group_1_Water_3          721 non-null    int64  \n",
      " 71  Egg_Group_2_Amorphous        721 non-null    int64  \n",
      " 72  Egg_Group_2_Bug              721 non-null    int64  \n",
      " 73  Egg_Group_2_Dragon           721 non-null    int64  \n",
      " 74  Egg_Group_2_Fairy            721 non-null    int64  \n",
      " 75  Egg_Group_2_Field            721 non-null    int64  \n",
      " 76  Egg_Group_2_Flying           721 non-null    int64  \n",
      " 77  Egg_Group_2_Grass            721 non-null    int64  \n",
      " 78  Egg_Group_2_Human-Like       721 non-null    int64  \n",
      " 79  Egg_Group_2_Mineral          721 non-null    int64  \n",
      " 80  Egg_Group_2_Monster          721 non-null    int64  \n",
      " 81  Egg_Group_2_Water_1          721 non-null    int64  \n",
      " 82  Egg_Group_2_Water_2          721 non-null    int64  \n",
      " 83  Egg_Group_2_Water_3          721 non-null    int64  \n",
      " 84  Egg_Group_2_none             721 non-null    int64  \n",
      " 85  Body_Style_bipedal_tailed    721 non-null    int64  \n",
      " 86  Body_Style_bipedal_tailless  721 non-null    int64  \n",
      " 87  Body_Style_four_wings        721 non-null    int64  \n",
      " 88  Body_Style_head_arms         721 non-null    int64  \n",
      " 89  Body_Style_head_base         721 non-null    int64  \n",
      " 90  Body_Style_head_legs         721 non-null    int64  \n",
      " 91  Body_Style_head_only         721 non-null    int64  \n",
      " 92  Body_Style_insectoid         721 non-null    int64  \n",
      " 93  Body_Style_multiple_bodies   721 non-null    int64  \n",
      " 94  Body_Style_quadruped         721 non-null    int64  \n",
      " 95  Body_Style_serpentine_body   721 non-null    int64  \n",
      " 96  Body_Style_several_limbs     721 non-null    int64  \n",
      " 97  Body_Style_two_wings         721 non-null    int64  \n",
      " 98  Body_Style_with_fins         721 non-null    int64  \n",
      "dtypes: float64(3), int64(96)\n",
      "memory usage: 563.3 KB\n"
     ]
    }
   ],
   "source": [
    "# check info\n",
    "df.info()"
   ]
  },
  {
   "cell_type": "markdown",
   "metadata": {},
   "source": [
    "## Preparing the Data"
   ]
  },
  {
   "cell_type": "code",
   "execution_count": 4,
   "metadata": {},
   "outputs": [
    {
     "name": "stdout",
     "output_type": "stream",
     "text": [
      "(721, 98) (721,)\n"
     ]
    }
   ],
   "source": [
    "# properly formatting the data shape\n",
    "X = df.loc[:,'Generation':].to_numpy().astype('float')\n",
    "y = df['Total'].ravel()\n",
    "\n",
    "print(X.shape, y.shape)"
   ]
  },
  {
   "cell_type": "code",
   "execution_count": 5,
   "metadata": {},
   "outputs": [],
   "source": [
    "# split the data into train and test data\n",
    "import sklearn\n",
    "from sklearn.model_selection import train_test_split\n",
    "\n",
    "X_train, X_test, y_train, y_test = train_test_split(X, y, test_size = 0.2, random_state = 25)"
   ]
  },
  {
   "cell_type": "code",
   "execution_count": 6,
   "metadata": {},
   "outputs": [
    {
     "name": "stdout",
     "output_type": "stream",
     "text": [
      "(576, 98) (576,)\n",
      "(145, 98) (145,)\n"
     ]
    }
   ],
   "source": [
    "# checking the number of entries for each data set\n",
    "print(X_train.shape, y_train.shape)\n",
    "print(X_test.shape, y_test.shape)"
   ]
  },
  {
   "cell_type": "code",
   "execution_count": 7,
   "metadata": {},
   "outputs": [
    {
     "name": "stdout",
     "output_type": "stream",
     "text": [
      "Mean total value in train data set : 417.658\n",
      "Mean total value in test data set : 419.090\n"
     ]
    }
   ],
   "source": [
    "# average total value in train and test\n",
    "print('Mean total value in train data set : {0:.3f}'.format(np.mean(y_train)))\n",
    "print('Mean total value in test data set : {0:.3f}'.format(np.mean(y_test)))"
   ]
  },
  {
   "cell_type": "markdown",
   "metadata": {},
   "source": [
    "## Baseline Model"
   ]
  },
  {
   "cell_type": "code",
   "execution_count": 8,
   "metadata": {},
   "outputs": [],
   "source": [
    "# import function\n",
    "from sklearn.dummy import DummyRegressor"
   ]
  },
  {
   "cell_type": "code",
   "execution_count": 9,
   "metadata": {},
   "outputs": [],
   "source": [
    "# create model\n",
    "dummy_model = DummyRegressor(strategy = 'mean')"
   ]
  },
  {
   "cell_type": "code",
   "execution_count": 10,
   "metadata": {},
   "outputs": [
    {
     "data": {
      "text/plain": [
       "DummyRegressor()"
      ]
     },
     "execution_count": 10,
     "metadata": {},
     "output_type": "execute_result"
    }
   ],
   "source": [
    "# fit the model\n",
    "dummy_model.fit(X_train, y_train)"
   ]
  }
 ],
 "metadata": {
  "kernelspec": {
   "display_name": "Python 3",
   "language": "python",
   "name": "python3"
  },
  "language_info": {
   "codemirror_mode": {
    "name": "ipython",
    "version": 3
   },
   "file_extension": ".py",
   "mimetype": "text/x-python",
   "name": "python",
   "nbconvert_exporter": "python",
   "pygments_lexer": "ipython3",
   "version": "3.8.5"
  }
 },
 "nbformat": 4,
 "nbformat_minor": 4
}
