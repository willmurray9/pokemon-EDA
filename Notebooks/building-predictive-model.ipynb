{
 "cells": [
  {
   "cell_type": "markdown",
   "metadata": {},
   "source": [
    "# Building Predictive Model"
   ]
  },
  {
   "cell_type": "code",
   "execution_count": 1,
   "metadata": {},
   "outputs": [],
   "source": [
    "import pandas as pd\n",
    "import numpy as np\n",
    "import os\n",
    "from matplotlib import pyplot as plt"
   ]
  },
  {
   "cell_type": "markdown",
   "metadata": {},
   "source": [
    "## Import Data"
   ]
  },
  {
   "cell_type": "code",
   "execution_count": 2,
   "metadata": {},
   "outputs": [],
   "source": [
    "# set the path of the processed data\n",
    "processed_data_path = os.path.join(os.path.pardir,'Data_Projects', 'pokemon-processed.csv')\n",
    "df = pd.read_csv(processed_data_path, index_col = 'Number')"
   ]
  },
  {
   "cell_type": "code",
   "execution_count": 3,
   "metadata": {},
   "outputs": [
    {
     "name": "stdout",
     "output_type": "stream",
     "text": [
      "<class 'pandas.core.frame.DataFrame'>\n",
      "Int64Index: 721 entries, 1 to 721\n",
      "Data columns (total 99 columns):\n",
      " #   Column                       Non-Null Count  Dtype  \n",
      "---  ------                       --------------  -----  \n",
      " 0   Total                        721 non-null    int64  \n",
      " 1   Generation                   721 non-null    int64  \n",
      " 2   isLegendary                  721 non-null    int64  \n",
      " 3   hasGender                    721 non-null    int64  \n",
      " 4   Pr_Male                      721 non-null    float64\n",
      " 5   hasMegaEvolution             721 non-null    int64  \n",
      " 6   Height_m                     721 non-null    float64\n",
      " 7   Weight_kg                    721 non-null    float64\n",
      " 8   Catch_Rate                   721 non-null    int64  \n",
      " 9   Type_1_Bug                   721 non-null    int64  \n",
      " 10  Type_1_Dark                  721 non-null    int64  \n",
      " 11  Type_1_Dragon                721 non-null    int64  \n",
      " 12  Type_1_Electric              721 non-null    int64  \n",
      " 13  Type_1_Fairy                 721 non-null    int64  \n",
      " 14  Type_1_Fighting              721 non-null    int64  \n",
      " 15  Type_1_Fire                  721 non-null    int64  \n",
      " 16  Type_1_Flying                721 non-null    int64  \n",
      " 17  Type_1_Ghost                 721 non-null    int64  \n",
      " 18  Type_1_Grass                 721 non-null    int64  \n",
      " 19  Type_1_Ground                721 non-null    int64  \n",
      " 20  Type_1_Ice                   721 non-null    int64  \n",
      " 21  Type_1_Normal                721 non-null    int64  \n",
      " 22  Type_1_Poison                721 non-null    int64  \n",
      " 23  Type_1_Psychic               721 non-null    int64  \n",
      " 24  Type_1_Rock                  721 non-null    int64  \n",
      " 25  Type_1_Steel                 721 non-null    int64  \n",
      " 26  Type_1_Water                 721 non-null    int64  \n",
      " 27  Type_2_Bug                   721 non-null    int64  \n",
      " 28  Type_2_Dark                  721 non-null    int64  \n",
      " 29  Type_2_Dragon                721 non-null    int64  \n",
      " 30  Type_2_Electric              721 non-null    int64  \n",
      " 31  Type_2_Fairy                 721 non-null    int64  \n",
      " 32  Type_2_Fighting              721 non-null    int64  \n",
      " 33  Type_2_Fire                  721 non-null    int64  \n",
      " 34  Type_2_Flying                721 non-null    int64  \n",
      " 35  Type_2_Ghost                 721 non-null    int64  \n",
      " 36  Type_2_Grass                 721 non-null    int64  \n",
      " 37  Type_2_Ground                721 non-null    int64  \n",
      " 38  Type_2_Ice                   721 non-null    int64  \n",
      " 39  Type_2_Normal                721 non-null    int64  \n",
      " 40  Type_2_Poison                721 non-null    int64  \n",
      " 41  Type_2_Psychic               721 non-null    int64  \n",
      " 42  Type_2_Rock                  721 non-null    int64  \n",
      " 43  Type_2_Steel                 721 non-null    int64  \n",
      " 44  Type_2_Water                 721 non-null    int64  \n",
      " 45  Type_2_none                  721 non-null    int64  \n",
      " 46  Color_Black                  721 non-null    int64  \n",
      " 47  Color_Blue                   721 non-null    int64  \n",
      " 48  Color_Brown                  721 non-null    int64  \n",
      " 49  Color_Green                  721 non-null    int64  \n",
      " 50  Color_Grey                   721 non-null    int64  \n",
      " 51  Color_Pink                   721 non-null    int64  \n",
      " 52  Color_Purple                 721 non-null    int64  \n",
      " 53  Color_Red                    721 non-null    int64  \n",
      " 54  Color_White                  721 non-null    int64  \n",
      " 55  Color_Yellow                 721 non-null    int64  \n",
      " 56  Egg_Group_1_Amorphous        721 non-null    int64  \n",
      " 57  Egg_Group_1_Bug              721 non-null    int64  \n",
      " 58  Egg_Group_1_Ditto            721 non-null    int64  \n",
      " 59  Egg_Group_1_Dragon           721 non-null    int64  \n",
      " 60  Egg_Group_1_Fairy            721 non-null    int64  \n",
      " 61  Egg_Group_1_Field            721 non-null    int64  \n",
      " 62  Egg_Group_1_Flying           721 non-null    int64  \n",
      " 63  Egg_Group_1_Grass            721 non-null    int64  \n",
      " 64  Egg_Group_1_Human-Like       721 non-null    int64  \n",
      " 65  Egg_Group_1_Mineral          721 non-null    int64  \n",
      " 66  Egg_Group_1_Monster          721 non-null    int64  \n",
      " 67  Egg_Group_1_Undiscovered     721 non-null    int64  \n",
      " 68  Egg_Group_1_Water_1          721 non-null    int64  \n",
      " 69  Egg_Group_1_Water_2          721 non-null    int64  \n",
      " 70  Egg_Group_1_Water_3          721 non-null    int64  \n",
      " 71  Egg_Group_2_Amorphous        721 non-null    int64  \n",
      " 72  Egg_Group_2_Bug              721 non-null    int64  \n",
      " 73  Egg_Group_2_Dragon           721 non-null    int64  \n",
      " 74  Egg_Group_2_Fairy            721 non-null    int64  \n",
      " 75  Egg_Group_2_Field            721 non-null    int64  \n",
      " 76  Egg_Group_2_Flying           721 non-null    int64  \n",
      " 77  Egg_Group_2_Grass            721 non-null    int64  \n",
      " 78  Egg_Group_2_Human-Like       721 non-null    int64  \n",
      " 79  Egg_Group_2_Mineral          721 non-null    int64  \n",
      " 80  Egg_Group_2_Monster          721 non-null    int64  \n",
      " 81  Egg_Group_2_Water_1          721 non-null    int64  \n",
      " 82  Egg_Group_2_Water_2          721 non-null    int64  \n",
      " 83  Egg_Group_2_Water_3          721 non-null    int64  \n",
      " 84  Egg_Group_2_none             721 non-null    int64  \n",
      " 85  Body_Style_bipedal_tailed    721 non-null    int64  \n",
      " 86  Body_Style_bipedal_tailless  721 non-null    int64  \n",
      " 87  Body_Style_four_wings        721 non-null    int64  \n",
      " 88  Body_Style_head_arms         721 non-null    int64  \n",
      " 89  Body_Style_head_base         721 non-null    int64  \n",
      " 90  Body_Style_head_legs         721 non-null    int64  \n",
      " 91  Body_Style_head_only         721 non-null    int64  \n",
      " 92  Body_Style_insectoid         721 non-null    int64  \n",
      " 93  Body_Style_multiple_bodies   721 non-null    int64  \n",
      " 94  Body_Style_quadruped         721 non-null    int64  \n",
      " 95  Body_Style_serpentine_body   721 non-null    int64  \n",
      " 96  Body_Style_several_limbs     721 non-null    int64  \n",
      " 97  Body_Style_two_wings         721 non-null    int64  \n",
      " 98  Body_Style_with_fins         721 non-null    int64  \n",
      "dtypes: float64(3), int64(96)\n",
      "memory usage: 563.3 KB\n"
     ]
    }
   ],
   "source": [
    "# check info\n",
    "df.info()"
   ]
  },
  {
   "cell_type": "markdown",
   "metadata": {},
   "source": [
    "## Preparing the Data"
   ]
  },
  {
   "cell_type": "code",
   "execution_count": 4,
   "metadata": {},
   "outputs": [
    {
     "name": "stdout",
     "output_type": "stream",
     "text": [
      "(721, 98) (721,)\n"
     ]
    }
   ],
   "source": [
    "# properly formatting the data shape\n",
    "X = df.loc[:,'Generation':].to_numpy().astype('float')\n",
    "y = df['Total'].ravel()\n",
    "\n",
    "print(X.shape, y.shape)"
   ]
  },
  {
   "cell_type": "code",
   "execution_count": 5,
   "metadata": {},
   "outputs": [],
   "source": [
    "# split the data into train and test data\n",
    "import sklearn\n",
    "from sklearn.model_selection import train_test_split\n",
    "\n",
    "X_train, X_test, y_train, y_test = train_test_split(X, y, test_size = 0.2, random_state = 25)"
   ]
  },
  {
   "cell_type": "code",
   "execution_count": 6,
   "metadata": {},
   "outputs": [
    {
     "name": "stdout",
     "output_type": "stream",
     "text": [
      "(576, 98) (576,)\n",
      "(145, 98) (145,)\n"
     ]
    }
   ],
   "source": [
    "# checking the number of entries for each data set\n",
    "print(X_train.shape, y_train.shape)\n",
    "print(X_test.shape, y_test.shape)"
   ]
  },
  {
   "cell_type": "code",
   "execution_count": 7,
   "metadata": {},
   "outputs": [
    {
     "name": "stdout",
     "output_type": "stream",
     "text": [
      "Mean total value in train data set : 417.658\n",
      "Mean total value in test data set : 419.090\n"
     ]
    }
   ],
   "source": [
    "# average total value in train and test\n",
    "print('Mean total value in train data set : {0:.3f}'.format(np.mean(y_train)))\n",
    "print('Mean total value in test data set : {0:.3f}'.format(np.mean(y_test)))"
   ]
  },
  {
   "cell_type": "markdown",
   "metadata": {},
   "source": [
    "## Model based on Height and Weight"
   ]
  },
  {
   "cell_type": "code",
   "execution_count": 8,
   "metadata": {},
   "outputs": [],
   "source": [
    "# function to speed up the model testing process\n",
    "from sklearn.linear_model import LinearRegression\n",
    "from sklearn.metrics import r2_score\n",
    "\n",
    "def model_tester(X, y, k):\n",
    "    model = LinearRegression()\n",
    "    model.fit(X, y)\n",
    "    predicted = model.predict(X)\n",
    "    scored = r2_score(y, predicted)\n",
    "    adjusted = 1 - ((1 - scored)*(576-1)/(576-k-1))\n",
    "    \n",
    "    return adjusted"
   ]
  },
  {
   "cell_type": "code",
   "execution_count": 9,
   "metadata": {},
   "outputs": [],
   "source": [
    "# filter the data set\n",
    "size_df = df[['Height_m', 'Weight_kg']]"
   ]
  },
  {
   "cell_type": "code",
   "execution_count": 10,
   "metadata": {},
   "outputs": [],
   "source": [
    "# properly formatting the data\n",
    "size_X = size_df.to_numpy().astype('float')\n",
    "size_y = df['Total'].ravel()\n",
    "\n",
    "size_X_train, size_X_test, size_y_train, size_y_test = train_test_split(size_X, \n",
    "                                                              size_y, \n",
    "                                                              test_size = 0.2, \n",
    "                                                              random_state = 25)"
   ]
  },
  {
   "cell_type": "code",
   "execution_count": 11,
   "metadata": {},
   "outputs": [
    {
     "data": {
      "text/plain": [
       "0.371259227565206"
      ]
     },
     "execution_count": 11,
     "metadata": {},
     "output_type": "execute_result"
    }
   ],
   "source": [
    "# checking the adjusted R-squared value\n",
    "model_tester(size_X_train, size_y_train, 2)"
   ]
  },
  {
   "cell_type": "markdown",
   "metadata": {},
   "source": [
    "## Model Based on Type"
   ]
  },
  {
   "cell_type": "code",
   "execution_count": 12,
   "metadata": {},
   "outputs": [],
   "source": [
    "# filter the data set\n",
    "type_df = df.loc[:, 'Type_1_Bug':'Type_2_none']"
   ]
  },
  {
   "cell_type": "code",
   "execution_count": 13,
   "metadata": {},
   "outputs": [],
   "source": [
    "# properly formatting the data\n",
    "type_X = type_df.to_numpy().astype('float')\n",
    "type_y = df['Total'].ravel()\n",
    "\n",
    "type_X_train, type_X_test, type_y_train, type_y_test = train_test_split(type_X, \n",
    "                                                                        type_y, \n",
    "                                                                        test_size = 0.2, \n",
    "                                                                        random_state = 25)"
   ]
  },
  {
   "cell_type": "code",
   "execution_count": 14,
   "metadata": {},
   "outputs": [
    {
     "data": {
      "text/plain": [
       "0.08756330121958644"
      ]
     },
     "execution_count": 14,
     "metadata": {},
     "output_type": "execute_result"
    }
   ],
   "source": [
    "# checking the adjusted R-squared value\n",
    "model_tester(type_X_train, type_y_train, 37)"
   ]
  },
  {
   "cell_type": "markdown",
   "metadata": {},
   "source": [
    "## Model Based on Type and Body Type "
   ]
  },
  {
   "cell_type": "code",
   "execution_count": 15,
   "metadata": {},
   "outputs": [],
   "source": [
    "# filter the data set\n",
    "looks_df = df.loc[:, 'Color_Black':'Body_Style_with_fins']"
   ]
  },
  {
   "cell_type": "code",
   "execution_count": 16,
   "metadata": {},
   "outputs": [
    {
     "data": {
      "text/html": [
       "<div>\n",
       "<style scoped>\n",
       "    .dataframe tbody tr th:only-of-type {\n",
       "        vertical-align: middle;\n",
       "    }\n",
       "\n",
       "    .dataframe tbody tr th {\n",
       "        vertical-align: top;\n",
       "    }\n",
       "\n",
       "    .dataframe thead th {\n",
       "        text-align: right;\n",
       "    }\n",
       "</style>\n",
       "<table border=\"1\" class=\"dataframe\">\n",
       "  <thead>\n",
       "    <tr style=\"text-align: right;\">\n",
       "      <th></th>\n",
       "      <th>Color_Black</th>\n",
       "      <th>Color_Blue</th>\n",
       "      <th>Color_Brown</th>\n",
       "      <th>Color_Green</th>\n",
       "      <th>Color_Grey</th>\n",
       "      <th>Color_Pink</th>\n",
       "      <th>Color_Purple</th>\n",
       "      <th>Color_Red</th>\n",
       "      <th>Color_White</th>\n",
       "      <th>Color_Yellow</th>\n",
       "      <th>...</th>\n",
       "      <th>Body_Style_head_base</th>\n",
       "      <th>Body_Style_head_legs</th>\n",
       "      <th>Body_Style_head_only</th>\n",
       "      <th>Body_Style_insectoid</th>\n",
       "      <th>Body_Style_multiple_bodies</th>\n",
       "      <th>Body_Style_quadruped</th>\n",
       "      <th>Body_Style_serpentine_body</th>\n",
       "      <th>Body_Style_several_limbs</th>\n",
       "      <th>Body_Style_two_wings</th>\n",
       "      <th>Body_Style_with_fins</th>\n",
       "    </tr>\n",
       "    <tr>\n",
       "      <th>Number</th>\n",
       "      <th></th>\n",
       "      <th></th>\n",
       "      <th></th>\n",
       "      <th></th>\n",
       "      <th></th>\n",
       "      <th></th>\n",
       "      <th></th>\n",
       "      <th></th>\n",
       "      <th></th>\n",
       "      <th></th>\n",
       "      <th></th>\n",
       "      <th></th>\n",
       "      <th></th>\n",
       "      <th></th>\n",
       "      <th></th>\n",
       "      <th></th>\n",
       "      <th></th>\n",
       "      <th></th>\n",
       "      <th></th>\n",
       "      <th></th>\n",
       "      <th></th>\n",
       "    </tr>\n",
       "  </thead>\n",
       "  <tbody>\n",
       "    <tr>\n",
       "      <th>1</th>\n",
       "      <td>0</td>\n",
       "      <td>0</td>\n",
       "      <td>0</td>\n",
       "      <td>1</td>\n",
       "      <td>0</td>\n",
       "      <td>0</td>\n",
       "      <td>0</td>\n",
       "      <td>0</td>\n",
       "      <td>0</td>\n",
       "      <td>0</td>\n",
       "      <td>...</td>\n",
       "      <td>0</td>\n",
       "      <td>0</td>\n",
       "      <td>0</td>\n",
       "      <td>0</td>\n",
       "      <td>0</td>\n",
       "      <td>1</td>\n",
       "      <td>0</td>\n",
       "      <td>0</td>\n",
       "      <td>0</td>\n",
       "      <td>0</td>\n",
       "    </tr>\n",
       "    <tr>\n",
       "      <th>2</th>\n",
       "      <td>0</td>\n",
       "      <td>0</td>\n",
       "      <td>0</td>\n",
       "      <td>1</td>\n",
       "      <td>0</td>\n",
       "      <td>0</td>\n",
       "      <td>0</td>\n",
       "      <td>0</td>\n",
       "      <td>0</td>\n",
       "      <td>0</td>\n",
       "      <td>...</td>\n",
       "      <td>0</td>\n",
       "      <td>0</td>\n",
       "      <td>0</td>\n",
       "      <td>0</td>\n",
       "      <td>0</td>\n",
       "      <td>1</td>\n",
       "      <td>0</td>\n",
       "      <td>0</td>\n",
       "      <td>0</td>\n",
       "      <td>0</td>\n",
       "    </tr>\n",
       "    <tr>\n",
       "      <th>3</th>\n",
       "      <td>0</td>\n",
       "      <td>0</td>\n",
       "      <td>0</td>\n",
       "      <td>1</td>\n",
       "      <td>0</td>\n",
       "      <td>0</td>\n",
       "      <td>0</td>\n",
       "      <td>0</td>\n",
       "      <td>0</td>\n",
       "      <td>0</td>\n",
       "      <td>...</td>\n",
       "      <td>0</td>\n",
       "      <td>0</td>\n",
       "      <td>0</td>\n",
       "      <td>0</td>\n",
       "      <td>0</td>\n",
       "      <td>1</td>\n",
       "      <td>0</td>\n",
       "      <td>0</td>\n",
       "      <td>0</td>\n",
       "      <td>0</td>\n",
       "    </tr>\n",
       "    <tr>\n",
       "      <th>4</th>\n",
       "      <td>0</td>\n",
       "      <td>0</td>\n",
       "      <td>0</td>\n",
       "      <td>0</td>\n",
       "      <td>0</td>\n",
       "      <td>0</td>\n",
       "      <td>0</td>\n",
       "      <td>1</td>\n",
       "      <td>0</td>\n",
       "      <td>0</td>\n",
       "      <td>...</td>\n",
       "      <td>0</td>\n",
       "      <td>0</td>\n",
       "      <td>0</td>\n",
       "      <td>0</td>\n",
       "      <td>0</td>\n",
       "      <td>0</td>\n",
       "      <td>0</td>\n",
       "      <td>0</td>\n",
       "      <td>0</td>\n",
       "      <td>0</td>\n",
       "    </tr>\n",
       "    <tr>\n",
       "      <th>5</th>\n",
       "      <td>0</td>\n",
       "      <td>0</td>\n",
       "      <td>0</td>\n",
       "      <td>0</td>\n",
       "      <td>0</td>\n",
       "      <td>0</td>\n",
       "      <td>0</td>\n",
       "      <td>1</td>\n",
       "      <td>0</td>\n",
       "      <td>0</td>\n",
       "      <td>...</td>\n",
       "      <td>0</td>\n",
       "      <td>0</td>\n",
       "      <td>0</td>\n",
       "      <td>0</td>\n",
       "      <td>0</td>\n",
       "      <td>0</td>\n",
       "      <td>0</td>\n",
       "      <td>0</td>\n",
       "      <td>0</td>\n",
       "      <td>0</td>\n",
       "    </tr>\n",
       "    <tr>\n",
       "      <th>...</th>\n",
       "      <td>...</td>\n",
       "      <td>...</td>\n",
       "      <td>...</td>\n",
       "      <td>...</td>\n",
       "      <td>...</td>\n",
       "      <td>...</td>\n",
       "      <td>...</td>\n",
       "      <td>...</td>\n",
       "      <td>...</td>\n",
       "      <td>...</td>\n",
       "      <td>...</td>\n",
       "      <td>...</td>\n",
       "      <td>...</td>\n",
       "      <td>...</td>\n",
       "      <td>...</td>\n",
       "      <td>...</td>\n",
       "      <td>...</td>\n",
       "      <td>...</td>\n",
       "      <td>...</td>\n",
       "      <td>...</td>\n",
       "      <td>...</td>\n",
       "    </tr>\n",
       "    <tr>\n",
       "      <th>717</th>\n",
       "      <td>0</td>\n",
       "      <td>0</td>\n",
       "      <td>0</td>\n",
       "      <td>0</td>\n",
       "      <td>0</td>\n",
       "      <td>0</td>\n",
       "      <td>0</td>\n",
       "      <td>1</td>\n",
       "      <td>0</td>\n",
       "      <td>0</td>\n",
       "      <td>...</td>\n",
       "      <td>0</td>\n",
       "      <td>0</td>\n",
       "      <td>0</td>\n",
       "      <td>0</td>\n",
       "      <td>0</td>\n",
       "      <td>0</td>\n",
       "      <td>0</td>\n",
       "      <td>0</td>\n",
       "      <td>1</td>\n",
       "      <td>0</td>\n",
       "    </tr>\n",
       "    <tr>\n",
       "      <th>718</th>\n",
       "      <td>0</td>\n",
       "      <td>0</td>\n",
       "      <td>0</td>\n",
       "      <td>1</td>\n",
       "      <td>0</td>\n",
       "      <td>0</td>\n",
       "      <td>0</td>\n",
       "      <td>0</td>\n",
       "      <td>0</td>\n",
       "      <td>0</td>\n",
       "      <td>...</td>\n",
       "      <td>0</td>\n",
       "      <td>0</td>\n",
       "      <td>0</td>\n",
       "      <td>0</td>\n",
       "      <td>0</td>\n",
       "      <td>0</td>\n",
       "      <td>1</td>\n",
       "      <td>0</td>\n",
       "      <td>0</td>\n",
       "      <td>0</td>\n",
       "    </tr>\n",
       "    <tr>\n",
       "      <th>719</th>\n",
       "      <td>0</td>\n",
       "      <td>0</td>\n",
       "      <td>0</td>\n",
       "      <td>0</td>\n",
       "      <td>0</td>\n",
       "      <td>1</td>\n",
       "      <td>0</td>\n",
       "      <td>0</td>\n",
       "      <td>0</td>\n",
       "      <td>0</td>\n",
       "      <td>...</td>\n",
       "      <td>0</td>\n",
       "      <td>0</td>\n",
       "      <td>0</td>\n",
       "      <td>0</td>\n",
       "      <td>0</td>\n",
       "      <td>0</td>\n",
       "      <td>0</td>\n",
       "      <td>0</td>\n",
       "      <td>0</td>\n",
       "      <td>0</td>\n",
       "    </tr>\n",
       "    <tr>\n",
       "      <th>720</th>\n",
       "      <td>0</td>\n",
       "      <td>0</td>\n",
       "      <td>0</td>\n",
       "      <td>0</td>\n",
       "      <td>0</td>\n",
       "      <td>0</td>\n",
       "      <td>1</td>\n",
       "      <td>0</td>\n",
       "      <td>0</td>\n",
       "      <td>0</td>\n",
       "      <td>...</td>\n",
       "      <td>0</td>\n",
       "      <td>0</td>\n",
       "      <td>1</td>\n",
       "      <td>0</td>\n",
       "      <td>0</td>\n",
       "      <td>0</td>\n",
       "      <td>0</td>\n",
       "      <td>0</td>\n",
       "      <td>0</td>\n",
       "      <td>0</td>\n",
       "    </tr>\n",
       "    <tr>\n",
       "      <th>721</th>\n",
       "      <td>0</td>\n",
       "      <td>0</td>\n",
       "      <td>1</td>\n",
       "      <td>0</td>\n",
       "      <td>0</td>\n",
       "      <td>0</td>\n",
       "      <td>0</td>\n",
       "      <td>0</td>\n",
       "      <td>0</td>\n",
       "      <td>0</td>\n",
       "      <td>...</td>\n",
       "      <td>0</td>\n",
       "      <td>0</td>\n",
       "      <td>0</td>\n",
       "      <td>0</td>\n",
       "      <td>0</td>\n",
       "      <td>1</td>\n",
       "      <td>0</td>\n",
       "      <td>0</td>\n",
       "      <td>0</td>\n",
       "      <td>0</td>\n",
       "    </tr>\n",
       "  </tbody>\n",
       "</table>\n",
       "<p>721 rows × 24 columns</p>\n",
       "</div>"
      ],
      "text/plain": [
       "        Color_Black  Color_Blue  Color_Brown  Color_Green  Color_Grey  \\\n",
       "Number                                                                  \n",
       "1                 0           0            0            1           0   \n",
       "2                 0           0            0            1           0   \n",
       "3                 0           0            0            1           0   \n",
       "4                 0           0            0            0           0   \n",
       "5                 0           0            0            0           0   \n",
       "...             ...         ...          ...          ...         ...   \n",
       "717               0           0            0            0           0   \n",
       "718               0           0            0            1           0   \n",
       "719               0           0            0            0           0   \n",
       "720               0           0            0            0           0   \n",
       "721               0           0            1            0           0   \n",
       "\n",
       "        Color_Pink  Color_Purple  Color_Red  Color_White  Color_Yellow  ...  \\\n",
       "Number                                                                  ...   \n",
       "1                0             0          0            0             0  ...   \n",
       "2                0             0          0            0             0  ...   \n",
       "3                0             0          0            0             0  ...   \n",
       "4                0             0          1            0             0  ...   \n",
       "5                0             0          1            0             0  ...   \n",
       "...            ...           ...        ...          ...           ...  ...   \n",
       "717              0             0          1            0             0  ...   \n",
       "718              0             0          0            0             0  ...   \n",
       "719              1             0          0            0             0  ...   \n",
       "720              0             1          0            0             0  ...   \n",
       "721              0             0          0            0             0  ...   \n",
       "\n",
       "        Body_Style_head_base  Body_Style_head_legs  Body_Style_head_only  \\\n",
       "Number                                                                     \n",
       "1                          0                     0                     0   \n",
       "2                          0                     0                     0   \n",
       "3                          0                     0                     0   \n",
       "4                          0                     0                     0   \n",
       "5                          0                     0                     0   \n",
       "...                      ...                   ...                   ...   \n",
       "717                        0                     0                     0   \n",
       "718                        0                     0                     0   \n",
       "719                        0                     0                     0   \n",
       "720                        0                     0                     1   \n",
       "721                        0                     0                     0   \n",
       "\n",
       "        Body_Style_insectoid  Body_Style_multiple_bodies  \\\n",
       "Number                                                     \n",
       "1                          0                           0   \n",
       "2                          0                           0   \n",
       "3                          0                           0   \n",
       "4                          0                           0   \n",
       "5                          0                           0   \n",
       "...                      ...                         ...   \n",
       "717                        0                           0   \n",
       "718                        0                           0   \n",
       "719                        0                           0   \n",
       "720                        0                           0   \n",
       "721                        0                           0   \n",
       "\n",
       "        Body_Style_quadruped  Body_Style_serpentine_body  \\\n",
       "Number                                                     \n",
       "1                          1                           0   \n",
       "2                          1                           0   \n",
       "3                          1                           0   \n",
       "4                          0                           0   \n",
       "5                          0                           0   \n",
       "...                      ...                         ...   \n",
       "717                        0                           0   \n",
       "718                        0                           1   \n",
       "719                        0                           0   \n",
       "720                        0                           0   \n",
       "721                        1                           0   \n",
       "\n",
       "        Body_Style_several_limbs  Body_Style_two_wings  Body_Style_with_fins  \n",
       "Number                                                                        \n",
       "1                              0                     0                     0  \n",
       "2                              0                     0                     0  \n",
       "3                              0                     0                     0  \n",
       "4                              0                     0                     0  \n",
       "5                              0                     0                     0  \n",
       "...                          ...                   ...                   ...  \n",
       "717                            0                     1                     0  \n",
       "718                            0                     0                     0  \n",
       "719                            0                     0                     0  \n",
       "720                            0                     0                     0  \n",
       "721                            0                     0                     0  \n",
       "\n",
       "[721 rows x 24 columns]"
      ]
     },
     "execution_count": 16,
     "metadata": {},
     "output_type": "execute_result"
    }
   ],
   "source": [
    "# drop the egg group columns\n",
    "looks_df[looks_df.columns.drop(list(looks_df.filter(regex='Egg')))]"
   ]
  },
  {
   "cell_type": "code",
   "execution_count": 17,
   "metadata": {},
   "outputs": [],
   "source": [
    "# properly formatting the data\n",
    "looks_X = looks_df.to_numpy().astype('float')\n",
    "looks_y = df['Total'].ravel()\n",
    "\n",
    "looks_X_train, looks_X_test, looks_y_train, looks_y_test = train_test_split(looks_X, \n",
    "                                                                        looks_y, \n",
    "                                                                        test_size = 0.2, \n",
    "                                                                        random_state = 25)"
   ]
  },
  {
   "cell_type": "code",
   "execution_count": 18,
   "metadata": {},
   "outputs": [
    {
     "data": {
      "text/plain": [
       "0.17498132496179108"
      ]
     },
     "execution_count": 18,
     "metadata": {},
     "output_type": "execute_result"
    }
   ],
   "source": [
    "# checking the adjusted R-squared value\n",
    "model_tester(looks_X_train, looks_y_train, 24)"
   ]
  },
  {
   "cell_type": "markdown",
   "metadata": {},
   "source": [
    "## Using my Personal Knowledge of Pokemon to Create a Model"
   ]
  },
  {
   "cell_type": "code",
   "execution_count": 19,
   "metadata": {},
   "outputs": [],
   "source": [
    "# Generally, large dragon type or legendary pokemon that are difficult to catch should have a high total stat value\n",
    "# On the flip side, small bug type pokemon that are easy to catch should have a low stat value\n",
    "personal_df = df[['Height_m', 'Weight_kg', 'Type_1_Dragon', 'Type_1_Bug', 'isLegendary', 'Catch_Rate']]"
   ]
  },
  {
   "cell_type": "code",
   "execution_count": 20,
   "metadata": {},
   "outputs": [],
   "source": [
    "# properly formatting the data\n",
    "personal_X = personal_df.to_numpy().astype('float')\n",
    "personal_y = df['Total'].ravel()\n",
    "\n",
    "personal_X_train, personal_X_test, personal_y_train, personal_y_test = train_test_split(personal_X,\n",
    "                                                                   personal_y,\n",
    "                                                                   test_size = 0.2,\n",
    "                                                                   random_state = 25)"
   ]
  },
  {
   "cell_type": "code",
   "execution_count": 21,
   "metadata": {},
   "outputs": [
    {
     "data": {
      "text/plain": [
       "0.6817829333103981"
      ]
     },
     "execution_count": 21,
     "metadata": {},
     "output_type": "execute_result"
    }
   ],
   "source": [
    "# checking the adjusted R-squared value\n",
    "model_tester(personal_X_train, personal_y_train, 6)"
   ]
  },
  {
   "cell_type": "code",
   "execution_count": 22,
   "metadata": {},
   "outputs": [
    {
     "data": {
      "text/plain": [
       "0.6322625434497096"
      ]
     },
     "execution_count": 22,
     "metadata": {},
     "output_type": "execute_result"
    }
   ],
   "source": [
    "# testing my model with the test data set\n",
    "model_tester(personal_X_test, personal_y_test, 6)"
   ]
  }
 ],
 "metadata": {
  "kernelspec": {
   "display_name": "Python 3",
   "language": "python",
   "name": "python3"
  },
  "language_info": {
   "codemirror_mode": {
    "name": "ipython",
    "version": 3
   },
   "file_extension": ".py",
   "mimetype": "text/x-python",
   "name": "python",
   "nbconvert_exporter": "python",
   "pygments_lexer": "ipython3",
   "version": "3.8.5"
  }
 },
 "nbformat": 4,
 "nbformat_minor": 4
}
